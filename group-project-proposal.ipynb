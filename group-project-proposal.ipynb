{
 "cells": [
  {
   "cell_type": "markdown",
   "id": "50d1ccc2-ca8b-4c48-8631-1428aa1ae994",
   "metadata": {},
   "source": [
    "# Group Project Proposal - Group 50 #"
   ]
  },
  {
   "cell_type": "markdown",
   "id": "ffcf87ec-c66f-460c-8994-3aebbdfc4ac6",
   "metadata": {
    "tags": []
   },
   "source": [
    "### Introduction ###"
   ]
  },
  {
   "cell_type": "markdown",
   "id": "603b6e81-7599-46ef-b84e-4691b46213b8",
   "metadata": {},
   "source": [
    "**Provide some relevant background information on the topic so that someone unfamiliar with it will be prepared to understand the rest of your proposal.**"
   ]
  },
  {
   "cell_type": "markdown",
   "id": "4754d12f-dcca-4e50-be93-24ca388b562d",
   "metadata": {},
   "source": [
    "**Clearly state the question you will try to answer with your project.**"
   ]
  },
  {
   "cell_type": "markdown",
   "id": "cbe40e9d-14b9-4456-a0e2-e9b67a33ed0a",
   "metadata": {},
   "source": [
    "**Identify and describe the dataset that will be used to answer the question.**"
   ]
  },
  {
   "cell_type": "markdown",
   "id": "a576f581-d092-4cf1-a508-6ed4cf4ff4f1",
   "metadata": {},
   "source": [
    "Coronary artery disease, also commonly known as coronary heart disease,  is the most common heart condition across the globe. It is caused by a buildup of plaque within the walls of the coronary arteries, those that supply blood to the heart, and for many, result in chest pain, lightheadedness, or heart attacks. Mostly consisting of cholesterol deposits, this plaque buildup may cause the arteries to narrow over time, obstructing or completely terminating bloodflow (Cleveland Clinic, 2022).  The most common symptom of coronary artery disease is known as a “stable angina,” or “typical angina,” a predictable chest pain that comes and goes and must meet three criteria to be classified as so: It must be substernal (below the sternum), (Sauleda, 2020), provoked by physical activity or emotional distress, and relieved by rest or nitroglycerine. An atypical angina, however, does not meet all of the criteria points above, and may radiate to  parts of the body other than the sternum (Sauleda, 2020). Non- anginal heart pain is chest pain that occurs in a patient who does not have  heart disease, and nonsymptomatic chest pain refers to those with coronary heart disease, but experience little to no symptoms (Fass, Achem, 2011). Although seemingly advantageous, those with no symptoms are more prone to “silent” heart attacks, those that come with no prior symptom or warning (Fass, Achem, 2011). Causes of Coronary Artery Disease are mainly caused by high blood pressure and high cholesterol and according to Kreatsoulas, types of Angina Pain are dependent on gender (Kreatsoulas, 2016). As such in our proposal, we will determine whether the type of chest pain, experienced by Anginal induced patients, is affected by qualitative and quantitative variables. We will be using the 1990 processed Cleveland dataset that will include 14 attributes of a patient's health status, their type of chest pain, gender, age, etc."
   ]
  },
  {
   "cell_type": "markdown",
   "id": "c11bd85a-4970-4a5a-9168-cedb5c8efb18",
   "metadata": {
    "tags": []
   },
   "source": [
    "### Preliminary exploratory data analysis ###"
   ]
  },
  {
   "cell_type": "code",
   "execution_count": 1,
   "id": "e1e30555-876f-4b51-97b2-17fae76df689",
   "metadata": {
    "tags": []
   },
   "outputs": [
    {
     "name": "stderr",
     "output_type": "stream",
     "text": [
      "── \u001b[1mAttaching packages\u001b[22m ─────────────────────────────────────── tidyverse 1.3.1 ──\n",
      "\n",
      "\u001b[32m✔\u001b[39m \u001b[34mggplot2\u001b[39m 3.3.6     \u001b[32m✔\u001b[39m \u001b[34mpurrr  \u001b[39m 0.3.4\n",
      "\u001b[32m✔\u001b[39m \u001b[34mtibble \u001b[39m 3.1.7     \u001b[32m✔\u001b[39m \u001b[34mdplyr  \u001b[39m 1.0.9\n",
      "\u001b[32m✔\u001b[39m \u001b[34mtidyr  \u001b[39m 1.2.0     \u001b[32m✔\u001b[39m \u001b[34mstringr\u001b[39m 1.4.0\n",
      "\u001b[32m✔\u001b[39m \u001b[34mreadr  \u001b[39m 2.1.2     \u001b[32m✔\u001b[39m \u001b[34mforcats\u001b[39m 0.5.1\n",
      "\n",
      "── \u001b[1mConflicts\u001b[22m ────────────────────────────────────────── tidyverse_conflicts() ──\n",
      "\u001b[31m✖\u001b[39m \u001b[34mdplyr\u001b[39m::\u001b[32mfilter()\u001b[39m masks \u001b[34mstats\u001b[39m::filter()\n",
      "\u001b[31m✖\u001b[39m \u001b[34mdplyr\u001b[39m::\u001b[32mlag()\u001b[39m    masks \u001b[34mstats\u001b[39m::lag()\n",
      "\n",
      "── \u001b[1mAttaching packages\u001b[22m ────────────────────────────────────── tidymodels 1.0.0 ──\n",
      "\n",
      "\u001b[32m✔\u001b[39m \u001b[34mbroom       \u001b[39m 1.0.0     \u001b[32m✔\u001b[39m \u001b[34mrsample     \u001b[39m 1.0.0\n",
      "\u001b[32m✔\u001b[39m \u001b[34mdials       \u001b[39m 1.0.0     \u001b[32m✔\u001b[39m \u001b[34mtune        \u001b[39m 1.0.0\n",
      "\u001b[32m✔\u001b[39m \u001b[34minfer       \u001b[39m 1.0.2     \u001b[32m✔\u001b[39m \u001b[34mworkflows   \u001b[39m 1.0.0\n",
      "\u001b[32m✔\u001b[39m \u001b[34mmodeldata   \u001b[39m 1.0.0     \u001b[32m✔\u001b[39m \u001b[34mworkflowsets\u001b[39m 1.0.0\n",
      "\u001b[32m✔\u001b[39m \u001b[34mparsnip     \u001b[39m 1.0.0     \u001b[32m✔\u001b[39m \u001b[34myardstick   \u001b[39m 1.0.0\n",
      "\u001b[32m✔\u001b[39m \u001b[34mrecipes     \u001b[39m 1.0.1     \n",
      "\n",
      "── \u001b[1mConflicts\u001b[22m ───────────────────────────────────────── tidymodels_conflicts() ──\n",
      "\u001b[31m✖\u001b[39m \u001b[34mscales\u001b[39m::\u001b[32mdiscard()\u001b[39m masks \u001b[34mpurrr\u001b[39m::discard()\n",
      "\u001b[31m✖\u001b[39m \u001b[34mdplyr\u001b[39m::\u001b[32mfilter()\u001b[39m   masks \u001b[34mstats\u001b[39m::filter()\n",
      "\u001b[31m✖\u001b[39m \u001b[34mrecipes\u001b[39m::\u001b[32mfixed()\u001b[39m  masks \u001b[34mstringr\u001b[39m::fixed()\n",
      "\u001b[31m✖\u001b[39m \u001b[34mdplyr\u001b[39m::\u001b[32mlag()\u001b[39m      masks \u001b[34mstats\u001b[39m::lag()\n",
      "\u001b[31m✖\u001b[39m \u001b[34myardstick\u001b[39m::\u001b[32mspec()\u001b[39m masks \u001b[34mreadr\u001b[39m::spec()\n",
      "\u001b[31m✖\u001b[39m \u001b[34mrecipes\u001b[39m::\u001b[32mstep()\u001b[39m   masks \u001b[34mstats\u001b[39m::step()\n",
      "\u001b[34m•\u001b[39m Learn how to get started at \u001b[32mhttps://www.tidymodels.org/start/\u001b[39m\n",
      "\n",
      "Warning message in file(filename, \"r\", encoding = encoding):\n",
      "“cannot open file 'tests.R': No such file or directory”\n"
     ]
    },
    {
     "ename": "ERROR",
     "evalue": "Error in file(filename, \"r\", encoding = encoding): cannot open the connection\n",
     "output_type": "error",
     "traceback": [
      "Error in file(filename, \"r\", encoding = encoding): cannot open the connection\nTraceback:\n",
      "1. source(\"tests.R\")",
      "2. file(filename, \"r\", encoding = encoding)"
     ]
    }
   ],
   "source": [
    " ### Run this cell before continuing.\n",
    "library(tidyverse)\n",
    "library(repr)\n",
    "library(tidymodels)\n",
    "options(repr.matrix.max.rows = 6)\n",
    "source('tests.R')\n",
    "source('cleanup.R')"
   ]
  },
  {
   "cell_type": "markdown",
   "id": "8f85a485-50eb-4bd1-806d-ea14b94cdf1b",
   "metadata": {},
   "source": [
    "**Demonstrate that the dataset can be read from the web into R.**"
   ]
  },
  {
   "cell_type": "markdown",
   "id": "4fd67a77-a957-41a3-b842-56b25725d518",
   "metadata": {},
   "source": [
    "The dataset, 'processed_cleveland', can be downloaded from the following website: https://archive.ics.uci.edu/ml/datasets/Heart+Disease\n",
    "Note that there are no column names in the dataset, but these can be manually added with reference to the attribute information provided."
   ]
  },
  {
   "cell_type": "markdown",
   "id": "1a6cb971-707a-4440-b04c-859701406114",
   "metadata": {
    "tags": []
   },
   "source": [
    "**Clean and wrangle your data into a tidy format.**"
   ]
  },
  {
   "cell_type": "code",
   "execution_count": 2,
   "id": "d50f6952-3ef4-4b7d-b679-0590cd18a12f",
   "metadata": {},
   "outputs": [
    {
     "name": "stderr",
     "output_type": "stream",
     "text": [
      "\u001b[1mRows: \u001b[22m\u001b[34m303\u001b[39m \u001b[1mColumns: \u001b[22m\u001b[34m14\u001b[39m\n",
      "\u001b[36m──\u001b[39m \u001b[1mColumn specification\u001b[22m \u001b[36m────────────────────────────────────────────────────────\u001b[39m\n",
      "\u001b[1mDelimiter:\u001b[22m \",\"\n",
      "\u001b[31mchr\u001b[39m  (2): X12, X13\n",
      "\u001b[32mdbl\u001b[39m (12): X1, X2, X3, X4, X5, X6, X7, X8, X9, X10, X11, X14\n",
      "\n",
      "\u001b[36mℹ\u001b[39m Use `spec()` to retrieve the full column specification for this data.\n",
      "\u001b[36mℹ\u001b[39m Specify the column types or set `show_col_types = FALSE` to quiet this message.\n"
     ]
    },
    {
     "data": {
      "text/html": [
       "<table class=\"dataframe\">\n",
       "<caption>A tibble: 303 × 14</caption>\n",
       "<thead>\n",
       "\t<tr><th scope=col>age</th><th scope=col>sex</th><th scope=col>cp</th><th scope=col>trestbps</th><th scope=col>chol</th><th scope=col>fbs</th><th scope=col>restecg</th><th scope=col>thalach</th><th scope=col>exang</th><th scope=col>oldpeak</th><th scope=col>slope</th><th scope=col>ca</th><th scope=col>thal</th><th scope=col>num</th></tr>\n",
       "\t<tr><th scope=col>&lt;dbl&gt;</th><th scope=col>&lt;dbl&gt;</th><th scope=col>&lt;fct&gt;</th><th scope=col>&lt;dbl&gt;</th><th scope=col>&lt;dbl&gt;</th><th scope=col>&lt;dbl&gt;</th><th scope=col>&lt;dbl&gt;</th><th scope=col>&lt;dbl&gt;</th><th scope=col>&lt;dbl&gt;</th><th scope=col>&lt;dbl&gt;</th><th scope=col>&lt;dbl&gt;</th><th scope=col>&lt;chr&gt;</th><th scope=col>&lt;chr&gt;</th><th scope=col>&lt;dbl&gt;</th></tr>\n",
       "</thead>\n",
       "<tbody>\n",
       "\t<tr><td>63</td><td>1</td><td>1</td><td>145</td><td>233</td><td>1</td><td>2</td><td>150</td><td>0</td><td>2.3</td><td>3</td><td>0.0</td><td>6.0</td><td>0</td></tr>\n",
       "\t<tr><td>67</td><td>1</td><td>4</td><td>160</td><td>286</td><td>0</td><td>2</td><td>108</td><td>1</td><td>1.5</td><td>2</td><td>3.0</td><td>3.0</td><td>2</td></tr>\n",
       "\t<tr><td>67</td><td>1</td><td>4</td><td>120</td><td>229</td><td>0</td><td>2</td><td>129</td><td>1</td><td>2.6</td><td>2</td><td>2.0</td><td>7.0</td><td>1</td></tr>\n",
       "\t<tr><td>⋮</td><td>⋮</td><td>⋮</td><td>⋮</td><td>⋮</td><td>⋮</td><td>⋮</td><td>⋮</td><td>⋮</td><td>⋮</td><td>⋮</td><td>⋮</td><td>⋮</td><td>⋮</td></tr>\n",
       "\t<tr><td>57</td><td>1</td><td>4</td><td>130</td><td>131</td><td>0</td><td>0</td><td>115</td><td>1</td><td>1.2</td><td>2</td><td>1.0</td><td>7.0</td><td>3</td></tr>\n",
       "\t<tr><td>57</td><td>0</td><td>2</td><td>130</td><td>236</td><td>0</td><td>2</td><td>174</td><td>0</td><td>0.0</td><td>2</td><td>1.0</td><td>3.0</td><td>1</td></tr>\n",
       "\t<tr><td>38</td><td>1</td><td>3</td><td>138</td><td>175</td><td>0</td><td>0</td><td>173</td><td>0</td><td>0.0</td><td>1</td><td>?  </td><td>3.0</td><td>0</td></tr>\n",
       "</tbody>\n",
       "</table>\n"
      ],
      "text/latex": [
       "A tibble: 303 × 14\n",
       "\\begin{tabular}{llllllllllllll}\n",
       " age & sex & cp & trestbps & chol & fbs & restecg & thalach & exang & oldpeak & slope & ca & thal & num\\\\\n",
       " <dbl> & <dbl> & <fct> & <dbl> & <dbl> & <dbl> & <dbl> & <dbl> & <dbl> & <dbl> & <dbl> & <chr> & <chr> & <dbl>\\\\\n",
       "\\hline\n",
       "\t 63 & 1 & 1 & 145 & 233 & 1 & 2 & 150 & 0 & 2.3 & 3 & 0.0 & 6.0 & 0\\\\\n",
       "\t 67 & 1 & 4 & 160 & 286 & 0 & 2 & 108 & 1 & 1.5 & 2 & 3.0 & 3.0 & 2\\\\\n",
       "\t 67 & 1 & 4 & 120 & 229 & 0 & 2 & 129 & 1 & 2.6 & 2 & 2.0 & 7.0 & 1\\\\\n",
       "\t ⋮ & ⋮ & ⋮ & ⋮ & ⋮ & ⋮ & ⋮ & ⋮ & ⋮ & ⋮ & ⋮ & ⋮ & ⋮ & ⋮\\\\\n",
       "\t 57 & 1 & 4 & 130 & 131 & 0 & 0 & 115 & 1 & 1.2 & 2 & 1.0 & 7.0 & 3\\\\\n",
       "\t 57 & 0 & 2 & 130 & 236 & 0 & 2 & 174 & 0 & 0.0 & 2 & 1.0 & 3.0 & 1\\\\\n",
       "\t 38 & 1 & 3 & 138 & 175 & 0 & 0 & 173 & 0 & 0.0 & 1 & ?   & 3.0 & 0\\\\\n",
       "\\end{tabular}\n"
      ],
      "text/markdown": [
       "\n",
       "A tibble: 303 × 14\n",
       "\n",
       "| age &lt;dbl&gt; | sex &lt;dbl&gt; | cp &lt;fct&gt; | trestbps &lt;dbl&gt; | chol &lt;dbl&gt; | fbs &lt;dbl&gt; | restecg &lt;dbl&gt; | thalach &lt;dbl&gt; | exang &lt;dbl&gt; | oldpeak &lt;dbl&gt; | slope &lt;dbl&gt; | ca &lt;chr&gt; | thal &lt;chr&gt; | num &lt;dbl&gt; |\n",
       "|---|---|---|---|---|---|---|---|---|---|---|---|---|---|\n",
       "| 63 | 1 | 1 | 145 | 233 | 1 | 2 | 150 | 0 | 2.3 | 3 | 0.0 | 6.0 | 0 |\n",
       "| 67 | 1 | 4 | 160 | 286 | 0 | 2 | 108 | 1 | 1.5 | 2 | 3.0 | 3.0 | 2 |\n",
       "| 67 | 1 | 4 | 120 | 229 | 0 | 2 | 129 | 1 | 2.6 | 2 | 2.0 | 7.0 | 1 |\n",
       "| ⋮ | ⋮ | ⋮ | ⋮ | ⋮ | ⋮ | ⋮ | ⋮ | ⋮ | ⋮ | ⋮ | ⋮ | ⋮ | ⋮ |\n",
       "| 57 | 1 | 4 | 130 | 131 | 0 | 0 | 115 | 1 | 1.2 | 2 | 1.0 | 7.0 | 3 |\n",
       "| 57 | 0 | 2 | 130 | 236 | 0 | 2 | 174 | 0 | 0.0 | 2 | 1.0 | 3.0 | 1 |\n",
       "| 38 | 1 | 3 | 138 | 175 | 0 | 0 | 173 | 0 | 0.0 | 1 | ?   | 3.0 | 0 |\n",
       "\n"
      ],
      "text/plain": [
       "    age sex cp trestbps chol fbs restecg thalach exang oldpeak slope ca  thal\n",
       "1   63  1   1  145      233  1   2       150     0     2.3     3     0.0 6.0 \n",
       "2   67  1   4  160      286  0   2       108     1     1.5     2     3.0 3.0 \n",
       "3   67  1   4  120      229  0   2       129     1     2.6     2     2.0 7.0 \n",
       "⋮   ⋮   ⋮   ⋮  ⋮        ⋮    ⋮   ⋮       ⋮       ⋮     ⋮       ⋮     ⋮   ⋮   \n",
       "301 57  1   4  130      131  0   0       115     1     1.2     2     1.0 7.0 \n",
       "302 57  0   2  130      236  0   2       174     0     0.0     2     1.0 3.0 \n",
       "303 38  1   3  138      175  0   0       173     0     0.0     1     ?   3.0 \n",
       "    num\n",
       "1   0  \n",
       "2   2  \n",
       "3   1  \n",
       "⋮   ⋮  \n",
       "301 3  \n",
       "302 1  \n",
       "303 0  "
      ]
     },
     "metadata": {},
     "output_type": "display_data"
    }
   ],
   "source": [
    "processed_cleveland <- read_csv(\"processed.cleveland.data\", skip = 1, col_names = FALSE) |>\n",
    "    rename(\n",
    "        age = X1, \n",
    "        sex = X2, \n",
    "        cp = X3, \n",
    "        trestbps = X4, \n",
    "        chol = X5, \n",
    "        fbs = X6, \n",
    "        restecg = X7, \n",
    "        thalach = X8, \n",
    "        exang = X9, \n",
    "        oldpeak = X10, \n",
    "        slope = X11, \n",
    "        ca = X12, \n",
    "        thal = X13, \n",
    "        num = X14\n",
    "    ) |>\n",
    "    mutate(cp = as_factor(cp))\n",
    "\n",
    "processed_cleveland"
   ]
  },
  {
   "cell_type": "markdown",
   "id": "1c711ce3-ee51-4d30-9680-28489e4fd580",
   "metadata": {},
   "source": [
    "**Using only training data, summarize the data in at least one table (this is exploratory data analysis). An example of a useful table could be one that reports the number of observations in each class, the means of the predictor variables you plan to use in your analysis and how many rows have missing data.**"
   ]
  },
  {
   "cell_type": "code",
   "execution_count": 3,
   "id": "4eda8e7f-8b06-4da8-9c3f-fb5ffd32c8db",
   "metadata": {
    "tags": []
   },
   "outputs": [
    {
     "data": {
      "text/html": [
       "<table class=\"dataframe\">\n",
       "<caption>A tibble: 4 × 2</caption>\n",
       "<thead>\n",
       "\t<tr><th scope=col>cp</th><th scope=col>n</th></tr>\n",
       "\t<tr><th scope=col>&lt;fct&gt;</th><th scope=col>&lt;int&gt;</th></tr>\n",
       "</thead>\n",
       "<tbody>\n",
       "\t<tr><td>1</td><td> 23</td></tr>\n",
       "\t<tr><td>2</td><td> 50</td></tr>\n",
       "\t<tr><td>3</td><td> 86</td></tr>\n",
       "\t<tr><td>4</td><td>144</td></tr>\n",
       "</tbody>\n",
       "</table>\n"
      ],
      "text/latex": [
       "A tibble: 4 × 2\n",
       "\\begin{tabular}{ll}\n",
       " cp & n\\\\\n",
       " <fct> & <int>\\\\\n",
       "\\hline\n",
       "\t 1 &  23\\\\\n",
       "\t 2 &  50\\\\\n",
       "\t 3 &  86\\\\\n",
       "\t 4 & 144\\\\\n",
       "\\end{tabular}\n"
      ],
      "text/markdown": [
       "\n",
       "A tibble: 4 × 2\n",
       "\n",
       "| cp &lt;fct&gt; | n &lt;int&gt; |\n",
       "|---|---|\n",
       "| 1 |  23 |\n",
       "| 2 |  50 |\n",
       "| 3 |  86 |\n",
       "| 4 | 144 |\n",
       "\n"
      ],
      "text/plain": [
       "  cp n  \n",
       "1 1   23\n",
       "2 2   50\n",
       "3 3   86\n",
       "4 4  144"
      ]
     },
     "metadata": {},
     "output_type": "display_data"
    }
   ],
   "source": [
    "# Summary table for the type of chest pain and their counts. \n",
    "chest_pain_type <- processed_cleveland |>\n",
    "    select(cp) |> \n",
    "    group_by(cp) |>\n",
    "    summarize(n = n())\n",
    "chest_pain_type"
   ]
  },
  {
   "cell_type": "code",
   "execution_count": 4,
   "id": "051fd6d1-8e8b-4c84-a303-cb61de528eac",
   "metadata": {
    "tags": []
   },
   "outputs": [
    {
     "name": "stderr",
     "output_type": "stream",
     "text": [
      "\u001b[1m\u001b[22m`summarise()` has grouped output by 'cp'. You can override using the `.groups`\n",
      "argument.\n"
     ]
    },
    {
     "data": {
      "text/html": [
       "<table class=\"dataframe\">\n",
       "<caption>A grouped_df: 4 × 3</caption>\n",
       "<thead>\n",
       "\t<tr><th scope=col>cp</th><th scope=col>female</th><th scope=col>male</th></tr>\n",
       "\t<tr><th scope=col>&lt;fct&gt;</th><th scope=col>&lt;int&gt;</th><th scope=col>&lt;int&gt;</th></tr>\n",
       "</thead>\n",
       "<tbody>\n",
       "\t<tr><td>1</td><td> 4</td><td> 19</td></tr>\n",
       "\t<tr><td>2</td><td>18</td><td> 32</td></tr>\n",
       "\t<tr><td>3</td><td>35</td><td> 51</td></tr>\n",
       "\t<tr><td>4</td><td>40</td><td>104</td></tr>\n",
       "</tbody>\n",
       "</table>\n"
      ],
      "text/latex": [
       "A grouped\\_df: 4 × 3\n",
       "\\begin{tabular}{lll}\n",
       " cp & female & male\\\\\n",
       " <fct> & <int> & <int>\\\\\n",
       "\\hline\n",
       "\t 1 &  4 &  19\\\\\n",
       "\t 2 & 18 &  32\\\\\n",
       "\t 3 & 35 &  51\\\\\n",
       "\t 4 & 40 & 104\\\\\n",
       "\\end{tabular}\n"
      ],
      "text/markdown": [
       "\n",
       "A grouped_df: 4 × 3\n",
       "\n",
       "| cp &lt;fct&gt; | female &lt;int&gt; | male &lt;int&gt; |\n",
       "|---|---|---|\n",
       "| 1 |  4 |  19 |\n",
       "| 2 | 18 |  32 |\n",
       "| 3 | 35 |  51 |\n",
       "| 4 | 40 | 104 |\n",
       "\n"
      ],
      "text/plain": [
       "  cp female male\n",
       "1 1   4      19 \n",
       "2 2  18      32 \n",
       "3 3  35      51 \n",
       "4 4  40     104 "
      ]
     },
     "metadata": {},
     "output_type": "display_data"
    }
   ],
   "source": [
    "# Summary table for the type of chest pain and their counts based on gender. \n",
    "chest_pain_type_sex <- processed_cleveland |>\n",
    "    select(cp, sex) |> \n",
    "    group_by(cp, sex) |>\n",
    "    summarize(n = n()) |>\n",
    "    pivot_wider(\n",
    "        names_from = sex,\n",
    "        values_from = n\n",
    "    ) |>\n",
    "    rename(\n",
    "        male = '1',\n",
    "        female = '0'\n",
    "    )\n",
    "chest_pain_type_sex"
   ]
  },
  {
   "cell_type": "code",
   "execution_count": 5,
   "id": "3bbaef71-b435-4fde-9eff-6fcb70bbb693",
   "metadata": {
    "tags": []
   },
   "outputs": [
    {
     "name": "stderr",
     "output_type": "stream",
     "text": [
      "\u001b[1m\u001b[22m`summarise()` has grouped output by 'cp'. You can override using the `.groups`\n",
      "argument.\n"
     ]
    },
    {
     "data": {
      "text/html": [
       "<table class=\"dataframe\">\n",
       "<caption>A grouped_df: 18 × 3</caption>\n",
       "<thead>\n",
       "\t<tr><th scope=col>cp</th><th scope=col>num</th><th scope=col>n</th></tr>\n",
       "\t<tr><th scope=col>&lt;fct&gt;</th><th scope=col>&lt;dbl&gt;</th><th scope=col>&lt;int&gt;</th></tr>\n",
       "</thead>\n",
       "<tbody>\n",
       "\t<tr><td>1</td><td>0</td><td>16</td></tr>\n",
       "\t<tr><td>1</td><td>1</td><td> 5</td></tr>\n",
       "\t<tr><td>1</td><td>2</td><td> 1</td></tr>\n",
       "\t<tr><td>⋮</td><td>⋮</td><td>⋮</td></tr>\n",
       "\t<tr><td>4</td><td>2</td><td>30</td></tr>\n",
       "\t<tr><td>4</td><td>3</td><td>29</td></tr>\n",
       "\t<tr><td>4</td><td>4</td><td>11</td></tr>\n",
       "</tbody>\n",
       "</table>\n"
      ],
      "text/latex": [
       "A grouped\\_df: 18 × 3\n",
       "\\begin{tabular}{lll}\n",
       " cp & num & n\\\\\n",
       " <fct> & <dbl> & <int>\\\\\n",
       "\\hline\n",
       "\t 1 & 0 & 16\\\\\n",
       "\t 1 & 1 &  5\\\\\n",
       "\t 1 & 2 &  1\\\\\n",
       "\t ⋮ & ⋮ & ⋮\\\\\n",
       "\t 4 & 2 & 30\\\\\n",
       "\t 4 & 3 & 29\\\\\n",
       "\t 4 & 4 & 11\\\\\n",
       "\\end{tabular}\n"
      ],
      "text/markdown": [
       "\n",
       "A grouped_df: 18 × 3\n",
       "\n",
       "| cp &lt;fct&gt; | num &lt;dbl&gt; | n &lt;int&gt; |\n",
       "|---|---|---|\n",
       "| 1 | 0 | 16 |\n",
       "| 1 | 1 |  5 |\n",
       "| 1 | 2 |  1 |\n",
       "| ⋮ | ⋮ | ⋮ |\n",
       "| 4 | 2 | 30 |\n",
       "| 4 | 3 | 29 |\n",
       "| 4 | 4 | 11 |\n",
       "\n"
      ],
      "text/plain": [
       "   cp num n \n",
       "1  1  0   16\n",
       "2  1  1    5\n",
       "3  1  2    1\n",
       "⋮  ⋮  ⋮   ⋮ \n",
       "16 4  2   30\n",
       "17 4  3   29\n",
       "18 4  4   11"
      ]
     },
     "metadata": {},
     "output_type": "display_data"
    }
   ],
   "source": [
    "# Summary table for type of chest pain, diagnosis and their count. \n",
    "chest_pain_diagnosis_count <- processed_cleveland |>\n",
    "    group_by(cp, num) |>\n",
    "    summarize(n = n()) \n",
    "chest_pain_diagnosis_count"
   ]
  },
  {
   "cell_type": "code",
   "execution_count": 6,
   "id": "4e3df5c7-141d-458b-ad1f-19653dfcecd5",
   "metadata": {
    "tags": []
   },
   "outputs": [
    {
     "data": {
      "text/html": [
       "<table class=\"dataframe\">\n",
       "<caption>A data.frame: 18 × 3</caption>\n",
       "<thead>\n",
       "\t<tr><th scope=col>cp</th><th scope=col>num</th><th scope=col>percentage</th></tr>\n",
       "\t<tr><th scope=col>&lt;fct&gt;</th><th scope=col>&lt;dbl&gt;</th><th scope=col>&lt;dbl&gt;</th></tr>\n",
       "</thead>\n",
       "<tbody>\n",
       "\t<tr><td>1</td><td>0</td><td>69.565217</td></tr>\n",
       "\t<tr><td>1</td><td>1</td><td>21.739130</td></tr>\n",
       "\t<tr><td>1</td><td>2</td><td> 4.347826</td></tr>\n",
       "\t<tr><td>⋮</td><td>⋮</td><td>⋮</td></tr>\n",
       "\t<tr><td>4</td><td>2</td><td>20.833333</td></tr>\n",
       "\t<tr><td>4</td><td>3</td><td>20.138889</td></tr>\n",
       "\t<tr><td>4</td><td>4</td><td> 7.638889</td></tr>\n",
       "</tbody>\n",
       "</table>\n"
      ],
      "text/latex": [
       "A data.frame: 18 × 3\n",
       "\\begin{tabular}{lll}\n",
       " cp & num & percentage\\\\\n",
       " <fct> & <dbl> & <dbl>\\\\\n",
       "\\hline\n",
       "\t 1 & 0 & 69.565217\\\\\n",
       "\t 1 & 1 & 21.739130\\\\\n",
       "\t 1 & 2 &  4.347826\\\\\n",
       "\t ⋮ & ⋮ & ⋮\\\\\n",
       "\t 4 & 2 & 20.833333\\\\\n",
       "\t 4 & 3 & 20.138889\\\\\n",
       "\t 4 & 4 &  7.638889\\\\\n",
       "\\end{tabular}\n"
      ],
      "text/markdown": [
       "\n",
       "A data.frame: 18 × 3\n",
       "\n",
       "| cp &lt;fct&gt; | num &lt;dbl&gt; | percentage &lt;dbl&gt; |\n",
       "|---|---|---|\n",
       "| 1 | 0 | 69.565217 |\n",
       "| 1 | 1 | 21.739130 |\n",
       "| 1 | 2 |  4.347826 |\n",
       "| ⋮ | ⋮ | ⋮ |\n",
       "| 4 | 2 | 20.833333 |\n",
       "| 4 | 3 | 20.138889 |\n",
       "| 4 | 4 |  7.638889 |\n",
       "\n"
      ],
      "text/plain": [
       "   cp num percentage\n",
       "1  1  0   69.565217 \n",
       "2  1  1   21.739130 \n",
       "3  1  2    4.347826 \n",
       "⋮  ⋮  ⋮   ⋮         \n",
       "16 4  2   20.833333 \n",
       "17 4  3   20.138889 \n",
       "18 4  4    7.638889 "
      ]
     },
     "metadata": {},
     "output_type": "display_data"
    },
    {
     "data": {
      "text/html": [
       "<table class=\"dataframe\">\n",
       "<caption>A tibble: 4 × 6</caption>\n",
       "<thead>\n",
       "\t<tr><th scope=col>cp</th><th scope=col>0</th><th scope=col>1</th><th scope=col>2</th><th scope=col>4</th><th scope=col>3</th></tr>\n",
       "\t<tr><th scope=col>&lt;fct&gt;</th><th scope=col>&lt;dbl&gt;</th><th scope=col>&lt;dbl&gt;</th><th scope=col>&lt;dbl&gt;</th><th scope=col>&lt;dbl&gt;</th><th scope=col>&lt;dbl&gt;</th></tr>\n",
       "</thead>\n",
       "<tbody>\n",
       "\t<tr><td>1</td><td>69.56522</td><td>21.73913</td><td> 4.347826</td><td>4.347826</td><td>       NA</td></tr>\n",
       "\t<tr><td>2</td><td>82.00000</td><td>12.00000</td><td> 2.000000</td><td>      NA</td><td> 4.000000</td></tr>\n",
       "\t<tr><td>3</td><td>79.06977</td><td>10.46512</td><td> 4.651163</td><td>1.162791</td><td> 4.651163</td></tr>\n",
       "\t<tr><td>4</td><td>27.08333</td><td>24.30556</td><td>20.833333</td><td>7.638889</td><td>20.138889</td></tr>\n",
       "</tbody>\n",
       "</table>\n"
      ],
      "text/latex": [
       "A tibble: 4 × 6\n",
       "\\begin{tabular}{llllll}\n",
       " cp & 0 & 1 & 2 & 4 & 3\\\\\n",
       " <fct> & <dbl> & <dbl> & <dbl> & <dbl> & <dbl>\\\\\n",
       "\\hline\n",
       "\t 1 & 69.56522 & 21.73913 &  4.347826 & 4.347826 &        NA\\\\\n",
       "\t 2 & 82.00000 & 12.00000 &  2.000000 &       NA &  4.000000\\\\\n",
       "\t 3 & 79.06977 & 10.46512 &  4.651163 & 1.162791 &  4.651163\\\\\n",
       "\t 4 & 27.08333 & 24.30556 & 20.833333 & 7.638889 & 20.138889\\\\\n",
       "\\end{tabular}\n"
      ],
      "text/markdown": [
       "\n",
       "A tibble: 4 × 6\n",
       "\n",
       "| cp &lt;fct&gt; | 0 &lt;dbl&gt; | 1 &lt;dbl&gt; | 2 &lt;dbl&gt; | 4 &lt;dbl&gt; | 3 &lt;dbl&gt; |\n",
       "|---|---|---|---|---|---|\n",
       "| 1 | 69.56522 | 21.73913 |  4.347826 | 4.347826 |        NA |\n",
       "| 2 | 82.00000 | 12.00000 |  2.000000 |       NA |  4.000000 |\n",
       "| 3 | 79.06977 | 10.46512 |  4.651163 | 1.162791 |  4.651163 |\n",
       "| 4 | 27.08333 | 24.30556 | 20.833333 | 7.638889 | 20.138889 |\n",
       "\n"
      ],
      "text/plain": [
       "  cp 0        1        2         4        3        \n",
       "1 1  69.56522 21.73913  4.347826 4.347826        NA\n",
       "2 2  82.00000 12.00000  2.000000       NA  4.000000\n",
       "3 3  79.06977 10.46512  4.651163 1.162791  4.651163\n",
       "4 4  27.08333 24.30556 20.833333 7.638889 20.138889"
      ]
     },
     "metadata": {},
     "output_type": "display_data"
    }
   ],
   "source": [
    "# Summary table for proportion of chest pain and their diagnosis. \n",
    "chest_pain_diagnosis_proportion <- merge(x = chest_pain_diagnosis_count, y = chest_pain_type, by = \"cp\") |>\n",
    "    mutate(percentage = n.x / n.y * 100, na.rm = TRUE) |>\n",
    "    select(cp, num, percentage)\n",
    "chest_pain_diagnosis_proportion\n",
    "\n",
    "chest_pain_diagnosis_proportion_named <- chest_pain_diagnosis_proportion |>\n",
    "    pivot_wider(\n",
    "        names_from = num,\n",
    "        values_from = percentage       \n",
    "    ) \n",
    "chest_pain_diagnosis_proportion_named"
   ]
  },
  {
   "cell_type": "markdown",
   "id": "277481e1-89d6-4625-8f97-83770a6471b5",
   "metadata": {
    "tags": []
   },
   "source": [
    "**Using only training data, visualize the data with at least one plot relevant to the analysis you plan to do (this is exploratory data analysis). An example of a useful visualization could be one that compares the distributions of each of the predictor variables you plan to use in your analysis.**"
   ]
  },
  {
   "cell_type": "code",
   "execution_count": 7,
   "id": "dca15c68-1a9a-44ee-ab70-5c42b92c6a6b",
   "metadata": {},
   "outputs": [
    {
     "data": {
      "image/png": "[encoded data removed]",
      "text/plain": [
       "plot without title"
      ]
     },
     "metadata": {
      "image/png": {
       "height": 420,
       "width": 420
      }
     },
     "output_type": "display_data"
    }
   ],
   "source": [
    "# Plot of the count of different chest pain counts.\n",
    "chest_pain_bar <- processed_cleveland |>\n",
    "    ggplot(aes(x = cp)) +\n",
    "    geom_bar() + \n",
    "    labs(x = \"Chest pain type\", y = \"Count\") + \n",
    "    scale_x_discrete(labels = c('Typical Angina', 'Atypical Angina', 'Non-anginal Pain', 'Asymptomatic'))\n",
    "chest_pain_bar"
   ]
  },
  {
   "cell_type": "code",
   "execution_count": 8,
   "id": "0b5eb32d-0069-4eba-aa1d-37508320e620",
   "metadata": {},
   "outputs": [
    {
     "data": {
      "image/png": "[encoded data removed]",
      "text/plain": [
       "plot without title"
      ]
     },
     "metadata": {
      "image/png": {
       "height": 420,
       "width": 420
      }
     },
     "output_type": "display_data"
    }
   ],
   "source": [
    "# Plot of the count of different chest pain counts based on gender.\n",
    "chest_pain_sex_count_plot <- processed_cleveland |>\n",
    "    ggplot(aes(x = cp, fill = as_factor(sex))) +\n",
    "    geom_bar(position = position_dodge()) + \n",
    "    labs(x = \"Chest pain type\", y = \"Count\", fill = \"Sex\") +\n",
    "    scale_fill_discrete(labels = c('Female', 'Male')) + \n",
    "    scale_x_discrete(labels = c('Typical Angina', 'Atypical Angina', 'Non-anginal Pain', 'Asymptomatic'))\n",
    "chest_pain_sex_count_plot"
   ]
  },
  {
   "cell_type": "markdown",
   "id": "06491e9b-c1a6-4e7e-b6e1-2dc0a08c4230",
   "metadata": {
    "tags": []
   },
   "source": [
    "### Methods ###"
   ]
  },
  {
   "cell_type": "markdown",
   "id": "de665e9a-fff2-42db-a858-9d2e3c80dc86",
   "metadata": {},
   "source": [
    "**Explain how you will conduct either your data analysis and which variables/columns you will use. Note - you do not need to use all variables/columns that exist in the raw data set. In fact, that's often not a good idea. For each variable think: is this a useful variable for prediction?**"
   ]
  },
  {
   "cell_type": "markdown",
   "id": "66281055-d1d4-4b48-ae33-1667da412cd6",
   "metadata": {},
   "source": [
    "**Describe at least one way that you will visualize the results.**"
   ]
  },
  {
   "cell_type": "markdown",
   "id": "7880c875-c46a-498d-9779-2095f454825c",
   "metadata": {},
   "source": [
    "Given that we are predicting the the type of chest pain the patient experiences, we will be using age, sex, resting blood sugar, maximum heart rate, and levels of chloresterol to determine the type of chest pain. In addition to the predictive hypothesis, we will also be determining whether gender and age have a correlation on the type of chest pain. To visualize these results, we plan to use a bar graph to compare the percentages of type of chest pain versus gender.\n"
   ]
  },
  {
   "cell_type": "code",
   "execution_count": 24,
   "id": "0d4aeca3-474b-4044-b796-7f809c09bfa9",
   "metadata": {},
   "outputs": [
    {
     "name": "stderr",
     "output_type": "stream",
     "text": [
      "\u001b[33m!\u001b[39m \u001b[33mFold02: internal:\n",
      "  No observations were detected in `truth` for level(s): '1'\n",
      "  Computation will proceed by ignoring those levels.\u001b[39m\n",
      "\n",
      "\u001b[33m!\u001b[39m \u001b[33mFold04: internal:\n",
      "  No observations were detected in `truth` for level(s): '1'\n",
      "  Computation will proceed by ignoring those levels.\u001b[39m\n",
      "\n",
      "\u001b[33m!\u001b[39m \u001b[33mFold07: internal:\n",
      "  No observations were detected in `truth` for level(s): '1'\n",
      "  Computation will proceed by ignoring those levels.\u001b[39m\n",
      "\n"
     ]
    }
   ],
   "source": [
    "#creating training and testing data sets\n",
    "cleveland_split<-initial_split(processed_cleveland,prop=0.6,strata=cp)\n",
    "cleveland_train<- training(cleveland_split)\n",
    "cleveland_test<-testing(cleveland_split)\n",
    "\n",
    "#perform cross validation\n",
    "cleveland_vfold<-vfold_cv(cleveland_train,v=10, strata=cp)\n",
    "\n",
    "#creating recipe and scale predictors\n",
    "cleveland_recipe<- recipe(cp~age+fbs+thalach+chol,data=cleveland_train)|>\n",
    "step_scale(all_predictors())|>\n",
    "step_center(all_predictors())\n",
    "\n",
    "#classification \n",
    "knn_spec<-nearest_neighbor(weight_func=\"rectangular\",neighbors=tune())|>\n",
    "set_engine(\"kknn\")|>\n",
    "set_mode(\"classification\")\n",
    "\n",
    "#create workflow\n",
    "cleveland_results<-workflow()|>\n",
    "add_recipe(cleveland_recipe)|>\n",
    "add_model(knn_spec)|>\n",
    "tune_grid(resamples=cleveland_vfold,grid=10)|>\n",
    "collect_metrics()|>\n",
    "filter(.metric==\"accuracy\")"
   ]
  },
  {
   "cell_type": "markdown",
   "id": "f919ff5f-19f3-41bc-a210-67e48443433c",
   "metadata": {},
   "source": [
    "### Expected outcomes and significance ###"
   ]
  },
  {
   "cell_type": "markdown",
   "id": "5211a00e-2ad0-4133-9311-c5d742d66436",
   "metadata": {},
   "source": [
    "**What do you expect to find?**\n",
    "Since coronary heart disease is caused by the buildup of plaque in the arteries, we should expect that patients with a higher cholestoral level to be more prone to anginal chest pain as well as more serious conditions of heart disease. The risk for heart disease also goes up with age (Hermann, 2014), as our bodies start to wear down and our hearts become weaker. Those with a higher blood sugar are also more prone to chest pain and heart attacks, as the sugar can damage the veins over time. In terms of maximum heart rate, those with a resting heart rate greater than 60-100bpm are more prone to chest pain and heart disease, as their hearts simply cannot catch up with the rest of the body(Hermann, 2014).  We may expect that those with more of these factors will experience more severe, anginal chest pain, but also realize that there are exceptions and other elements that can impact both location and type of chest pain. "
   ]
  },
  {
   "cell_type": "markdown",
   "id": "76575a88-fe1b-4398-af2f-73d63a0b4511",
   "metadata": {},
   "source": [
    "**What impact could such findings have?**\n",
    "Being able to predict the location and type of chest pain for patients,  doctors can prepare accordingly such as prescribing preventative  supplements  and making patients aware of potential risk factors. However, since certain chest pains are signs of heart diseases, by predicting what type of chest pain someone will have, we can use that as an indicator to which heart diseases someone may have.  Those with certain types of chest pains in certain areas can take preventative measures to prevent and mediate the possibility of  heart disease, building healthy habits in terms of excersize and diet. Most importantly, these findings can allow doctors to anticipate heart attacks in patients depending on the location of their chest pain, especially those that have no symptoms.  Silent heart attacks can be deadly, and knowing the presence of heart disease without chest pain can help both the patient and doctor anticipate them. \n"
   ]
  },
  {
   "cell_type": "markdown",
   "id": "b18fea0a-f182-4ceb-b660-b4b705a2ea0d",
   "metadata": {},
   "source": [
    "**What future questions could this lead to?**\n",
    "A future question that could be asked may be: How can the type of chest pain caused by sex, resting blood sugar, maximum heart rate, and levels of cholesteral be used to predict the time, severity, and frequency of a heart attack? Although this may not actually be possible, knowing the location and type of chest pain can certainly allow patients of heart disease to anticipate and prepare for heart attacks, especially as pain diminishes or increases unexpectedly. "
   ]
  }
 ],
 "metadata": {
  "kernelspec": {
   "display_name": "R",
   "language": "R",
   "name": "ir"
  },
  "language_info": {
   "codemirror_mode": "r",
   "file_extension": ".r",
   "mimetype": "text/x-r-source",
   "name": "R",
   "pygments_lexer": "r",
   "version": "4.1.3"
  }
 },
 "nbformat": 4,
 "nbformat_minor": 5
}
